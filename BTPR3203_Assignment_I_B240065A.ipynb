{
 "cells": [
  {
   "cell_type": "markdown",
   "id": "0ed24acd-3438-4166-b552-e5395071faa5",
   "metadata": {},
   "source": [
    "Part 1: Initial Setup & Inventory Management (30 Marks) "
   ]
  },
  {
   "cell_type": "code",
   "execution_count": 1,
   "id": "daf24055-b258-4b70-ae67-80cea0c8c138",
   "metadata": {},
   "outputs": [],
   "source": [
    "# Initialize the inventory\n",
    "inventory_stock = {\n",
    "    'Food Package': 100,\n",
    "    'Hygiene Kit': 50,\n",
    "    'Blanket': 30\n",
    "}\n",
    "\n",
    "# Function to add or update item stock\n",
    "def add_update_item():\n",
    "    item_name = input(\"Enter item name: \")\n",
    "    quantity = int(input(\"Enter quantity: \"))\n",
    "    \n",
    "    if item_name in inventory_stock:\n",
    "        inventory_stock[item_name] += quantity\n",
    "        print(f\"Stock for {item_name} updated. New quantity: {inventory_stock[item_name]}.\")\n",
    "    else:\n",
    "        inventory_stock[item_name] = quantity\n",
    "        print(f\"New item {item_name} added with quantity: {quantity}.\")\n",
    "\n",
    "# Function to display current inventory\n",
    "def display_inventory():\n",
    "    print(\"\\n--- Current Inventory ---\")\n",
    "    for item, quantity in inventory_stock.items():\n",
    "        print(f\"{item}: {quantity} units\")\n",
    "    print(\"---\\n\")"
   ]
  },
  {
   "cell_type": "markdown",
   "id": "cef83d0e-c276-454f-b4bb-2c717752e58e",
   "metadata": {},
   "source": [
    "Part 2: Beneficiary Registration & Tracking (30 Marks) "
   ]
  },
  {
   "cell_type": "code",
   "execution_count": 2,
   "id": "23596fc4-e4d5-47ad-886c-8258a70dd1ca",
   "metadata": {},
   "outputs": [],
   "source": [
    "# Initialize beneficiaries list\n",
    "beneficiaries_list = []\n",
    "next_id = 1  # To generate unique IDs\n",
    "\n",
    "# Function to register new beneficiary\n",
    "def register_beneficiary():\n",
    "    global next_id\n",
    "    name = input(\"Enter beneficiary name: \")\n",
    "    beneficiary = {\n",
    "        'id': next_id,\n",
    "        'name': name,\n",
    "        'eligible': True\n",
    "    }\n",
    "    beneficiaries_list.append(beneficiary)\n",
    "    print(f\"New beneficiary registered - ID: {next_id}, Name: {name}\")\n",
    "    next_id += 1\n",
    "\n",
    "# Function to update beneficiary eligibility\n",
    "def update_eligibility():\n",
    "    beneficiary_id = int(input(\"Enter beneficiary ID: \"))\n",
    "    new_status = input(\"Is beneficiary eligible? (yes/no): \").lower() == 'yes'\n",
    "    \n",
    "    found = False\n",
    "    for beneficiary in beneficiaries_list:\n",
    "        if beneficiary['id'] == beneficiary_id:\n",
    "            beneficiary['eligible'] = new_status\n",
    "            print(f\"Beneficiary ID {beneficiary_id} eligibility updated to {new_status}\")\n",
    "            found = True\n",
    "            break\n",
    "    \n",
    "    if not found:\n",
    "        print(f\"Beneficiary ID {beneficiary_id} not found.\")"
   ]
  },
  {
   "cell_type": "markdown",
   "id": "4cdaedff-aed5-4d5f-8cf2-8bf9c640b748",
   "metadata": {},
   "source": [
    "Part 3: Item Distribution Process (30 Marks) "
   ]
  },
  {
   "cell_type": "code",
   "execution_count": 3,
   "id": "c7a22d16-eb37-4497-8e5f-3c6fe668e888",
   "metadata": {},
   "outputs": [],
   "source": [
    "from datetime import datetime\n",
    "\n",
    "# Initialize distribution history\n",
    "distribution_history = []\n",
    "\n",
    "# Function to distribute items\n",
    "def distribute_item():\n",
    "    # Display eligible beneficiaries\n",
    "    print(\"\\nEligible beneficiaries:\")\n",
    "    for beneficiary in beneficiaries_list:\n",
    "        if beneficiary['eligible']:\n",
    "            print(f\"ID: {beneficiary['id']}, Name: {beneficiary['name']}\")\n",
    "    \n",
    "    beneficiary_id = int(input(\"\\nEnter beneficiary ID: \"))\n",
    "    item_name = input(\"Enter item name: \")\n",
    "    quantity = int(input(\"Enter quantity to distribute: \"))\n",
    "    \n",
    "    # Validate beneficiary\n",
    "    beneficiary_valid = False\n",
    "    for beneficiary in beneficiaries_list:\n",
    "        if beneficiary['id'] == beneficiary_id and beneficiary['eligible']:\n",
    "            beneficiary_valid = True\n",
    "            break\n",
    "    \n",
    "    if not beneficiary_valid:\n",
    "        print(\"Error: Invalid or ineligible beneficiary ID\")\n",
    "        return\n",
    "    \n",
    "    # Validate item and quantity\n",
    "    if item_name not in inventory_stock:\n",
    "        print(\"Error: Item not in inventory\")\n",
    "        return\n",
    "    \n",
    "    if inventory_stock[item_name] < quantity:\n",
    "        print(f\"Error: Not enough stock. Only {inventory_stock[item_name]} available\")\n",
    "        return\n",
    "    \n",
    "    # Process distribution\n",
    "    inventory_stock[item_name] -= quantity\n",
    "    timestamp = datetime.now()\n",
    "    distribution_history.append((timestamp, beneficiary_id, item_name, quantity))\n",
    "    print(f\"Successfully distributed {quantity} of {item_name} to Beneficiary ID {beneficiary_id}\")"
   ]
  },
  {
   "cell_type": "markdown",
   "id": "ac0f40cc-a29f-481c-9541-b6233a65a2e0",
   "metadata": {},
   "source": [
    "Part 4: Reporting & Summary (10 Marks) "
   ]
  },
  {
   "cell_type": "code",
   "execution_count": 4,
   "id": "6f7e940c-ae48-4eac-917a-15c9a8d118a4",
   "metadata": {},
   "outputs": [],
   "source": [
    "# Function to generate reports\n",
    "def generate_reports():\n",
    "    print(\"\\n=== Distribution Reports ===\")\n",
    "    \n",
    "    # Unique beneficiaries count\n",
    "    unique_beneficiaries = set()\n",
    "    for record in distribution_history:\n",
    "        unique_beneficiaries.add(record[1])\n",
    "    print(f\"Total unique beneficiaries served: {len(unique_beneficiaries)}\")\n",
    "    \n",
    "    # Total quantity distributed per item\n",
    "    item_distribution = {}\n",
    "    for record in distribution_history:\n",
    "        item = record[2]\n",
    "        quantity = record[3]\n",
    "        if item in item_distribution:\n",
    "            item_distribution[item] += quantity\n",
    "        else:\n",
    "            item_distribution[item] = quantity\n",
    "    \n",
    "    print(\"\\nTotal items distributed:\")\n",
    "    for item, quantity in item_distribution.items():\n",
    "        print(f\"{item}: {quantity} units\")\n",
    "    \n",
    "    # Out of stock items\n",
    "    out_of_stock = [item for item, quantity in inventory_stock.items() if quantity == 0]\n",
    "    if out_of_stock:\n",
    "        print(\"\\nOut of stock items:\")\n",
    "        for item in out_of_stock:\n",
    "            print(item)\n",
    "    else:\n",
    "        print(\"\\nAll items are currently in stock.\")\n",
    "    \n",
    "    print(\"===\\n\")"
   ]
  },
  {
   "cell_type": "markdown",
   "id": "921af25d-985b-48cd-a499-72c87da91cdf",
   "metadata": {},
   "source": [
    "Main Menu Integration"
   ]
  },
  {
   "cell_type": "code",
   "execution_count": null,
   "id": "3321515a-96e4-4890-91e4-9225cabaaea4",
   "metadata": {},
   "outputs": [
    {
     "name": "stdout",
     "output_type": "stream",
     "text": [
      "\n",
      "=== Helping Hands Community Aid Program ===\n",
      "1. Add/Update Item Stock\n",
      "2. Display Current Inventory\n",
      "3. Beneficiary Management\n",
      "4. Distribution\n",
      "5. Reports\n",
      "6. Exit Program\n"
     ]
    },
    {
     "name": "stdin",
     "output_type": "stream",
     "text": [
      "Enter your choice (1-6):  2\n"
     ]
    },
    {
     "name": "stdout",
     "output_type": "stream",
     "text": [
      "\n",
      "--- Current Inventory ---\n",
      "Food Package: 110 units\n",
      "Hygiene Kit: 50 units\n",
      "Blanket: 29 units\n",
      "School Kit: 20 units\n",
      "---\n",
      "\n",
      "\n",
      "=== Helping Hands Community Aid Program ===\n",
      "1. Add/Update Item Stock\n",
      "2. Display Current Inventory\n",
      "3. Beneficiary Management\n",
      "4. Distribution\n",
      "5. Reports\n",
      "6. Exit Program\n"
     ]
    },
    {
     "name": "stdin",
     "output_type": "stream",
     "text": [
      "Enter your choice (1-6):  4\n"
     ]
    },
    {
     "name": "stdout",
     "output_type": "stream",
     "text": [
      "\n",
      "Eligible beneficiaries:\n",
      "ID: 2, Name: Adam bin Mii Si Heng\n"
     ]
    },
    {
     "name": "stdin",
     "output_type": "stream",
     "text": [
      "\n",
      "Enter beneficiary ID:  2\n",
      "Enter item name:  Blanket\n",
      "Enter quantity to distribute:  30\n"
     ]
    },
    {
     "name": "stdout",
     "output_type": "stream",
     "text": [
      "Error: Not enough stock. Only 29 available\n",
      "\n",
      "=== Helping Hands Community Aid Program ===\n",
      "1. Add/Update Item Stock\n",
      "2. Display Current Inventory\n",
      "3. Beneficiary Management\n",
      "4. Distribution\n",
      "5. Reports\n",
      "6. Exit Program\n"
     ]
    },
    {
     "name": "stdin",
     "output_type": "stream",
     "text": [
      "Enter your choice (1-6):  3\n"
     ]
    },
    {
     "name": "stdout",
     "output_type": "stream",
     "text": [
      "\n",
      "=== Beneficiary Management ===\n",
      "1. Register New Beneficiary\n",
      "2. Update Beneficiary Eligibility\n",
      "3. Return to Main Menu\n"
     ]
    },
    {
     "name": "stdin",
     "output_type": "stream",
     "text": [
      "Enter your choice (1-3):  2\n",
      "Enter beneficiary ID:  1\n",
      "Is beneficiary eligible? (yes/no):  yes\n"
     ]
    },
    {
     "name": "stdout",
     "output_type": "stream",
     "text": [
      "Beneficiary ID 1 eligibility updated to True\n",
      "\n",
      "=== Beneficiary Management ===\n",
      "1. Register New Beneficiary\n",
      "2. Update Beneficiary Eligibility\n",
      "3. Return to Main Menu\n"
     ]
    },
    {
     "name": "stdin",
     "output_type": "stream",
     "text": [
      "Enter your choice (1-3):  3\n"
     ]
    },
    {
     "name": "stdout",
     "output_type": "stream",
     "text": [
      "\n",
      "=== Helping Hands Community Aid Program ===\n",
      "1. Add/Update Item Stock\n",
      "2. Display Current Inventory\n",
      "3. Beneficiary Management\n",
      "4. Distribution\n",
      "5. Reports\n",
      "6. Exit Program\n"
     ]
    },
    {
     "name": "stdin",
     "output_type": "stream",
     "text": [
      "Enter your choice (1-6):  4\n"
     ]
    },
    {
     "name": "stdout",
     "output_type": "stream",
     "text": [
      "\n",
      "Eligible beneficiaries:\n",
      "ID: 1, Name: Ali bin Mii Si Heng\n",
      "ID: 2, Name: Adam bin Mii Si Heng\n"
     ]
    },
    {
     "name": "stdin",
     "output_type": "stream",
     "text": [
      "\n",
      "Enter beneficiary ID:  1\n",
      "Enter item name:  Blankeg\n",
      "Enter quantity to distribute:  30\n"
     ]
    },
    {
     "name": "stdout",
     "output_type": "stream",
     "text": [
      "Error: Item not in inventory\n",
      "\n",
      "=== Helping Hands Community Aid Program ===\n",
      "1. Add/Update Item Stock\n",
      "2. Display Current Inventory\n",
      "3. Beneficiary Management\n",
      "4. Distribution\n",
      "5. Reports\n",
      "6. Exit Program\n"
     ]
    }
   ],
   "source": [
    "###### Main menu function\n",
    "def main_menu():\n",
    "    while True:\n",
    "        print(\"\\n=== Helping Hands Community Aid Program ===\")\n",
    "        print(\"1. Add/Update Item Stock\")\n",
    "        print(\"2. Display Current Inventory\")\n",
    "        print(\"3. Beneficiary Management\")\n",
    "        print(\"4. Distribution\")\n",
    "        print(\"5. Reports\")\n",
    "        print(\"6. Exit Program\")\n",
    "        \n",
    "        choice = input(\"Enter your choice (1-6): \")\n",
    "        \n",
    "        if choice == '1':\n",
    "            add_update_item()\n",
    "        elif choice == '2':\n",
    "            display_inventory()\n",
    "        elif choice == '3':\n",
    "            beneficiary_menu()\n",
    "        elif choice == '4':\n",
    "            distribute_item()\n",
    "        elif choice == '5':\n",
    "            generate_reports()\n",
    "        elif choice == '6':\n",
    "            print(\"Exiting program. Thank you for using Helping Hands!\")\n",
    "            break\n",
    "        else:\n",
    "            print(\"Invalid choice. Please enter a number between 1-6.\")\n",
    "\n",
    "# Beneficiary sub-menu\n",
    "def beneficiary_menu():\n",
    "    while True:\n",
    "        print(\"\\n=== Beneficiary Management ===\")\n",
    "        print(\"1. Register New Beneficiary\")\n",
    "        print(\"2. Update Beneficiary Eligibility\")\n",
    "        print(\"3. Return to Main Menu\")\n",
    "        \n",
    "        choice = input(\"Enter your choice (1-3): \")\n",
    "        \n",
    "        if choice == '1':\n",
    "            register_beneficiary()\n",
    "        elif choice == '2':\n",
    "            update_eligibility()\n",
    "        elif choice == '3':\n",
    "            break\n",
    "        else:\n",
    "            print(\"Invalid choice. Please enter a number between 1-3.\")\n",
    "\n",
    "# Start the program\n",
    "if __name__ == \"__main__\":\n",
    "    main_menu()"
   ]
  },
  {
   "cell_type": "code",
   "execution_count": null,
   "id": "76a6df19-b1cd-4e5f-a5b4-de3a39b29657",
   "metadata": {},
   "outputs": [],
   "source": []
  }
 ],
 "metadata": {
  "kernelspec": {
   "display_name": "Python 3 (ipykernel)",
   "language": "python",
   "name": "python3"
  },
  "language_info": {
   "codemirror_mode": {
    "name": "ipython",
    "version": 3
   },
   "file_extension": ".py",
   "mimetype": "text/x-python",
   "name": "python",
   "nbconvert_exporter": "python",
   "pygments_lexer": "ipython3",
   "version": "3.12.7"
  }
 },
 "nbformat": 4,
 "nbformat_minor": 5
}
